{
 "cells": [
  {
   "cell_type": "markdown",
   "metadata": {},
   "source": [
    "# Energy nanojoule por bit"
   ]
  },
  {
   "cell_type": "markdown",
   "metadata": {},
   "source": [
    "## Importanto bibliotecas necessárias"
   ]
  },
  {
   "cell_type": "code",
   "execution_count": 1,
   "metadata": {},
   "outputs": [],
   "source": [
    "import pandas as pd\n",
    "import numpy as np\n",
    "\n",
    "from matplotlib import pyplot as plt\n",
    "import seaborn as sns\n",
    "\n",
    "sns.set_style('whitegrid')\n",
    "\n",
    "%matplotlib inline"
   ]
  },
  {
   "cell_type": "code",
   "execution_count": 2,
   "metadata": {},
   "outputs": [],
   "source": [
    "# deixar a pasta scripts vizivel no notebook\n",
    "%load_ext autoreload\n",
    "%autoreload 2\n",
    "\n",
    "import sys\n",
    "import os\n",
    "\n",
    "module_path = os.path.abspath(os.path.join('..', 'pyscripts'))\n",
    "if module_path not in sys.path :\n",
    "    sys.path.append(module_path)"
   ]
  },
  {
   "cell_type": "code",
   "execution_count": 3,
   "metadata": {},
   "outputs": [],
   "source": [
    "# import module from scripts folder\n",
    "import process_data"
   ]
  },
  {
   "cell_type": "markdown",
   "metadata": {},
   "source": [
    "## Pre processing "
   ]
  },
  {
   "cell_type": "code",
   "execution_count": 4,
   "metadata": {},
   "outputs": [],
   "source": [
    "## import dataset from ../data\n",
    "data_folder = os.path.join('..','Simulations')\n",
    "\n",
    "simulations = ['PA','PB','CL2','CL4','CLBinomial']\n",
    "\n",
    "# the same file will be searching\n",
    "main_file = 'energy_NJ_per_bit.txt'\n",
    "\n",
    "df_data = pd.DataFrame()\n",
    "\n",
    "for folder in simulations:\n",
    "    data_file = os.path.join(data_folder,folder,main_file)\n",
    "    df = process_data.parser_main_table(data_file)\n",
    "    df['Simulation'] = folder\n",
    "    df_data = df_data.append(df,ignore_index=True)\n",
    "\n",
    "del df"
   ]
  },
  {
   "cell_type": "code",
   "execution_count": 5,
   "metadata": {},
   "outputs": [
    {
     "data": {
      "text/html": [
       "<div>\n",
       "<style scoped>\n",
       "    .dataframe tbody tr th:only-of-type {\n",
       "        vertical-align: middle;\n",
       "    }\n",
       "\n",
       "    .dataframe tbody tr th {\n",
       "        vertical-align: top;\n",
       "    }\n",
       "\n",
       "    .dataframe thead th {\n",
       "        text-align: right;\n",
       "    }\n",
       "</style>\n",
       "<table border=\"1\" class=\"dataframe\">\n",
       "  <thead>\n",
       "    <tr style=\"text-align: right;\">\n",
       "      <th></th>\n",
       "      <th>info_0</th>\n",
       "      <th>info_1</th>\n",
       "      <th>node=1</th>\n",
       "      <th>node=2</th>\n",
       "      <th>node=3</th>\n",
       "      <th>node=4</th>\n",
       "      <th>node=5</th>\n",
       "      <th>Simulation</th>\n",
       "    </tr>\n",
       "  </thead>\n",
       "  <tbody>\n",
       "    <tr>\n",
       "      <th>4</th>\n",
       "      <td>setRateMedium</td>\n",
       "      <td>InterfModel=0</td>\n",
       "      <td>197.287</td>\n",
       "      <td>497.68567</td>\n",
       "      <td>197.908</td>\n",
       "      <td>494.55533</td>\n",
       "      <td>65.4656</td>\n",
       "      <td>PA</td>\n",
       "    </tr>\n",
       "    <tr>\n",
       "      <th>26</th>\n",
       "      <td>setRateLow</td>\n",
       "      <td>InterfModel=0</td>\n",
       "      <td>498.215</td>\n",
       "      <td>495.37267</td>\n",
       "      <td>504.588</td>\n",
       "      <td>502.05933</td>\n",
       "      <td>250.77567</td>\n",
       "      <td>CLBinomial</td>\n",
       "    </tr>\n",
       "    <tr>\n",
       "      <th>9</th>\n",
       "      <td>setRateLow</td>\n",
       "      <td>InterfModel=2</td>\n",
       "      <td>544.00667</td>\n",
       "      <td>498.51767</td>\n",
       "      <td>689.358</td>\n",
       "      <td>533.66033</td>\n",
       "      <td>302.12433</td>\n",
       "      <td>PB</td>\n",
       "    </tr>\n",
       "    <tr>\n",
       "      <th>25</th>\n",
       "      <td>setRateHigh</td>\n",
       "      <td>InterfModel=2</td>\n",
       "      <td>107.76333</td>\n",
       "      <td>103.62267</td>\n",
       "      <td>71.70873</td>\n",
       "      <td>50.69773</td>\n",
       "      <td>53.26097</td>\n",
       "      <td>CLBinomial</td>\n",
       "    </tr>\n",
       "    <tr>\n",
       "      <th>2</th>\n",
       "      <td>setRateLow</td>\n",
       "      <td>InterfModel=0</td>\n",
       "      <td>493.00367</td>\n",
       "      <td>495.327</td>\n",
       "      <td>492.46467</td>\n",
       "      <td>496.83033</td>\n",
       "      <td>247.31</td>\n",
       "      <td>PA</td>\n",
       "    </tr>\n",
       "    <tr>\n",
       "      <th>7</th>\n",
       "      <td>setRateHigh</td>\n",
       "      <td>InterfModel=2</td>\n",
       "      <td>120.87367</td>\n",
       "      <td>102.66667</td>\n",
       "      <td>95.11867</td>\n",
       "      <td>54.54257</td>\n",
       "      <td>84.57563</td>\n",
       "      <td>PB</td>\n",
       "    </tr>\n",
       "    <tr>\n",
       "      <th>16</th>\n",
       "      <td>setRateMedium</td>\n",
       "      <td>InterfModel=0</td>\n",
       "      <td>204.97867</td>\n",
       "      <td>498.82733</td>\n",
       "      <td>206.77667</td>\n",
       "      <td>507.503</td>\n",
       "      <td>66.39497</td>\n",
       "      <td>CL2</td>\n",
       "    </tr>\n",
       "    <tr>\n",
       "      <th>0</th>\n",
       "      <td>setRateHigh</td>\n",
       "      <td>InterfModel=0</td>\n",
       "      <td>102.858</td>\n",
       "      <td>103.04567</td>\n",
       "      <td>67.21293</td>\n",
       "      <td>45.92067</td>\n",
       "      <td>47.0386</td>\n",
       "      <td>PA</td>\n",
       "    </tr>\n",
       "    <tr>\n",
       "      <th>1</th>\n",
       "      <td>setRateHigh</td>\n",
       "      <td>InterfModel=2</td>\n",
       "      <td>106.18667</td>\n",
       "      <td>102.848</td>\n",
       "      <td>69.3053</td>\n",
       "      <td>50.02217</td>\n",
       "      <td>51.60467</td>\n",
       "      <td>PA</td>\n",
       "    </tr>\n",
       "    <tr>\n",
       "      <th>20</th>\n",
       "      <td>setRateLow</td>\n",
       "      <td>InterfModel=0</td>\n",
       "      <td>513.02</td>\n",
       "      <td>496.18333</td>\n",
       "      <td>519.94533</td>\n",
       "      <td>491.95833</td>\n",
       "      <td>245.91233</td>\n",
       "      <td>CL4</td>\n",
       "    </tr>\n",
       "  </tbody>\n",
       "</table>\n",
       "</div>"
      ],
      "text/plain": [
       "           info_0         info_1     node=1     node=2     node=3     node=4  \\\n",
       "4   setRateMedium  InterfModel=0    197.287  497.68567    197.908  494.55533   \n",
       "26     setRateLow  InterfModel=0    498.215  495.37267    504.588  502.05933   \n",
       "9      setRateLow  InterfModel=2  544.00667  498.51767    689.358  533.66033   \n",
       "25    setRateHigh  InterfModel=2  107.76333  103.62267   71.70873   50.69773   \n",
       "2      setRateLow  InterfModel=0  493.00367    495.327  492.46467  496.83033   \n",
       "7     setRateHigh  InterfModel=2  120.87367  102.66667   95.11867   54.54257   \n",
       "16  setRateMedium  InterfModel=0  204.97867  498.82733  206.77667    507.503   \n",
       "0     setRateHigh  InterfModel=0    102.858  103.04567   67.21293   45.92067   \n",
       "1     setRateHigh  InterfModel=2  106.18667    102.848    69.3053   50.02217   \n",
       "20     setRateLow  InterfModel=0     513.02  496.18333  519.94533  491.95833   \n",
       "\n",
       "       node=5  Simulation  \n",
       "4     65.4656          PA  \n",
       "26  250.77567  CLBinomial  \n",
       "9   302.12433          PB  \n",
       "25   53.26097  CLBinomial  \n",
       "2      247.31          PA  \n",
       "7    84.57563          PB  \n",
       "16   66.39497         CL2  \n",
       "0     47.0386          PA  \n",
       "1    51.60467          PA  \n",
       "20  245.91233         CL4  "
      ]
     },
     "execution_count": 5,
     "metadata": {},
     "output_type": "execute_result"
    }
   ],
   "source": [
    "df_data.sample(10)"
   ]
  },
  {
   "cell_type": "markdown",
   "metadata": {},
   "source": [
    "### Normalizando valores dos atributos"
   ]
  },
  {
   "cell_type": "code",
   "execution_count": 6,
   "metadata": {},
   "outputs": [
    {
     "data": {
      "text/plain": [
       "info_0        object\n",
       "info_1        object\n",
       "node=1        object\n",
       "node=2        object\n",
       "node=3        object\n",
       "node=4        object\n",
       "node=5        object\n",
       "Simulation    object\n",
       "dtype: object"
      ]
     },
     "execution_count": 6,
     "metadata": {},
     "output_type": "execute_result"
    }
   ],
   "source": [
    "df_data.dtypes"
   ]
  },
  {
   "cell_type": "code",
   "execution_count": 7,
   "metadata": {},
   "outputs": [],
   "source": [
    "numeric_columns = ['node=1', 'node=2', 'node=3', 'node=4', 'node=5']\n",
    "df_data[numeric_columns] = df_data[numeric_columns].astype('float')"
   ]
  },
  {
   "cell_type": "code",
   "execution_count": 8,
   "metadata": {},
   "outputs": [],
   "source": [
    "modelo_colisao = {\n",
    "    'InterfModel=0': 'sem colisão',\n",
    "    'InterfModel=2': 'com colisão'\n",
    "}\n",
    "\n",
    "collision_model = {\n",
    "    'InterfModel=0': 'without collision',\n",
    "    'InterfModel=2': 'with collision'\n",
    "}\n",
    "\n",
    "def infer_collision_model(value,mapper=modelo_colisao):\n",
    "    return mapper.get(value,value)\n",
    "\n",
    "df_data['info_1'] = df_data['info_1'].apply(infer_collision_model)"
   ]
  },
  {
   "cell_type": "code",
   "execution_count": 9,
   "metadata": {},
   "outputs": [],
   "source": [
    "taxa_dados = {\n",
    "    'setRateLow' : 'baixa',\n",
    "    'setRateMedium': 'média',\n",
    "    'setRateHigh' : 'alta'\n",
    "}\n",
    "\n",
    "packet_rate = {\n",
    "    'setRateLow' : 'low',\n",
    "    'setRateMedium': 'medium',\n",
    "    'setRateHigh' : 'high'\n",
    "}\n",
    "\n",
    "def infer_packet_rate(value,mapper=taxa_dados):\n",
    "    return mapper.get(value,value)\n",
    "\n",
    "df_data['info_0'] = df_data['info_0'].apply(infer_packet_rate)"
   ]
  },
  {
   "cell_type": "markdown",
   "metadata": {},
   "source": [
    "### Renomeando colunas"
   ]
  },
  {
   "cell_type": "code",
   "execution_count": 10,
   "metadata": {},
   "outputs": [],
   "source": [
    "nodes_PTbr = {\n",
    "        'info_0' : 'Taxa-dados',\n",
    "        'info_1' : 'Modelo-colisão',\n",
    "        'node=1': 'E-Punho',\n",
    "        'node=2': 'D-Punho',\n",
    "        'node=3': 'E-Tornozelo',\n",
    "        'node=4': 'D-Tornozelo',\n",
    "        'node=5': 'Peito',\n",
    "        'Simulation': 'Simulação'\n",
    "    }\n",
    "\n",
    "nodes_ENG = {\n",
    "        'info_0' : 'Packet-rate',\n",
    "        'info_1' : 'Collision-model',\n",
    "        'node=1': 'L-wrist',\n",
    "        'node=2': 'R-wrist',\n",
    "        'node=3': 'L-ankle',\n",
    "        'node=4': 'R-ankle',\n",
    "        'node=5': 'chest',\n",
    "    }\n",
    "\n",
    "df_data.rename(mapper=nodes_PTbr,axis='columns', inplace=True)"
   ]
  },
  {
   "cell_type": "code",
   "execution_count": 11,
   "metadata": {},
   "outputs": [
    {
     "data": {
      "text/html": [
       "<div>\n",
       "<style scoped>\n",
       "    .dataframe tbody tr th:only-of-type {\n",
       "        vertical-align: middle;\n",
       "    }\n",
       "\n",
       "    .dataframe tbody tr th {\n",
       "        vertical-align: top;\n",
       "    }\n",
       "\n",
       "    .dataframe thead th {\n",
       "        text-align: right;\n",
       "    }\n",
       "</style>\n",
       "<table border=\"1\" class=\"dataframe\">\n",
       "  <thead>\n",
       "    <tr style=\"text-align: right;\">\n",
       "      <th></th>\n",
       "      <th>Taxa-dados</th>\n",
       "      <th>Modelo-colisão</th>\n",
       "      <th>E-Punho</th>\n",
       "      <th>D-Punho</th>\n",
       "      <th>E-Tornozelo</th>\n",
       "      <th>D-Tornozelo</th>\n",
       "      <th>Peito</th>\n",
       "      <th>Simulação</th>\n",
       "    </tr>\n",
       "  </thead>\n",
       "  <tbody>\n",
       "    <tr>\n",
       "      <th>15</th>\n",
       "      <td>baixa</td>\n",
       "      <td>com colisão</td>\n",
       "      <td>511.23233</td>\n",
       "      <td>496.97233</td>\n",
       "      <td>515.05167</td>\n",
       "      <td>510.56400</td>\n",
       "      <td>258.22433</td>\n",
       "      <td>CL2</td>\n",
       "    </tr>\n",
       "    <tr>\n",
       "      <th>29</th>\n",
       "      <td>média</td>\n",
       "      <td>com colisão</td>\n",
       "      <td>202.91633</td>\n",
       "      <td>498.53400</td>\n",
       "      <td>204.95700</td>\n",
       "      <td>507.62567</td>\n",
       "      <td>66.64957</td>\n",
       "      <td>CLBinomial</td>\n",
       "    </tr>\n",
       "    <tr>\n",
       "      <th>13</th>\n",
       "      <td>alta</td>\n",
       "      <td>com colisão</td>\n",
       "      <td>107.68667</td>\n",
       "      <td>104.07200</td>\n",
       "      <td>71.00300</td>\n",
       "      <td>50.43043</td>\n",
       "      <td>53.16193</td>\n",
       "      <td>CL2</td>\n",
       "    </tr>\n",
       "    <tr>\n",
       "      <th>23</th>\n",
       "      <td>média</td>\n",
       "      <td>com colisão</td>\n",
       "      <td>207.32833</td>\n",
       "      <td>501.29000</td>\n",
       "      <td>207.76967</td>\n",
       "      <td>502.64400</td>\n",
       "      <td>66.12153</td>\n",
       "      <td>CL4</td>\n",
       "    </tr>\n",
       "    <tr>\n",
       "      <th>21</th>\n",
       "      <td>baixa</td>\n",
       "      <td>com colisão</td>\n",
       "      <td>514.70167</td>\n",
       "      <td>498.50467</td>\n",
       "      <td>526.21600</td>\n",
       "      <td>494.05267</td>\n",
       "      <td>249.04833</td>\n",
       "      <td>CL4</td>\n",
       "    </tr>\n",
       "    <tr>\n",
       "      <th>28</th>\n",
       "      <td>média</td>\n",
       "      <td>sem colisão</td>\n",
       "      <td>199.82667</td>\n",
       "      <td>497.73700</td>\n",
       "      <td>201.54867</td>\n",
       "      <td>500.85033</td>\n",
       "      <td>66.04630</td>\n",
       "      <td>CLBinomial</td>\n",
       "    </tr>\n",
       "    <tr>\n",
       "      <th>16</th>\n",
       "      <td>média</td>\n",
       "      <td>sem colisão</td>\n",
       "      <td>204.97867</td>\n",
       "      <td>498.82733</td>\n",
       "      <td>206.77667</td>\n",
       "      <td>507.50300</td>\n",
       "      <td>66.39497</td>\n",
       "      <td>CL2</td>\n",
       "    </tr>\n",
       "    <tr>\n",
       "      <th>12</th>\n",
       "      <td>alta</td>\n",
       "      <td>sem colisão</td>\n",
       "      <td>104.52000</td>\n",
       "      <td>104.01567</td>\n",
       "      <td>68.46100</td>\n",
       "      <td>46.82517</td>\n",
       "      <td>48.06143</td>\n",
       "      <td>CL2</td>\n",
       "    </tr>\n",
       "    <tr>\n",
       "      <th>18</th>\n",
       "      <td>alta</td>\n",
       "      <td>sem colisão</td>\n",
       "      <td>103.70267</td>\n",
       "      <td>102.98900</td>\n",
       "      <td>68.81197</td>\n",
       "      <td>46.99307</td>\n",
       "      <td>47.21180</td>\n",
       "      <td>CL4</td>\n",
       "    </tr>\n",
       "    <tr>\n",
       "      <th>24</th>\n",
       "      <td>alta</td>\n",
       "      <td>sem colisão</td>\n",
       "      <td>103.83000</td>\n",
       "      <td>103.27800</td>\n",
       "      <td>69.09207</td>\n",
       "      <td>46.61200</td>\n",
       "      <td>48.41300</td>\n",
       "      <td>CLBinomial</td>\n",
       "    </tr>\n",
       "  </tbody>\n",
       "</table>\n",
       "</div>"
      ],
      "text/plain": [
       "   Taxa-dados Modelo-colisão    E-Punho    D-Punho  E-Tornozelo  D-Tornozelo  \\\n",
       "15      baixa    com colisão  511.23233  496.97233    515.05167    510.56400   \n",
       "29      média    com colisão  202.91633  498.53400    204.95700    507.62567   \n",
       "13       alta    com colisão  107.68667  104.07200     71.00300     50.43043   \n",
       "23      média    com colisão  207.32833  501.29000    207.76967    502.64400   \n",
       "21      baixa    com colisão  514.70167  498.50467    526.21600    494.05267   \n",
       "28      média    sem colisão  199.82667  497.73700    201.54867    500.85033   \n",
       "16      média    sem colisão  204.97867  498.82733    206.77667    507.50300   \n",
       "12       alta    sem colisão  104.52000  104.01567     68.46100     46.82517   \n",
       "18       alta    sem colisão  103.70267  102.98900     68.81197     46.99307   \n",
       "24       alta    sem colisão  103.83000  103.27800     69.09207     46.61200   \n",
       "\n",
       "        Peito   Simulação  \n",
       "15  258.22433         CL2  \n",
       "29   66.64957  CLBinomial  \n",
       "13   53.16193         CL2  \n",
       "23   66.12153         CL4  \n",
       "21  249.04833         CL4  \n",
       "28   66.04630  CLBinomial  \n",
       "16   66.39497         CL2  \n",
       "12   48.06143         CL2  \n",
       "18   47.21180         CL4  \n",
       "24   48.41300  CLBinomial  "
      ]
     },
     "execution_count": 11,
     "metadata": {},
     "output_type": "execute_result"
    }
   ],
   "source": [
    "df_data.sample(10)"
   ]
  },
  {
   "cell_type": "code",
   "execution_count": 12,
   "metadata": {},
   "outputs": [
    {
     "data": {
      "text/plain": [
       "Index(['Taxa-dados', 'Modelo-colisão', 'E-Punho', 'D-Punho', 'E-Tornozelo',\n",
       "       'D-Tornozelo', 'Peito', 'Simulação'],\n",
       "      dtype='object')"
      ]
     },
     "execution_count": 12,
     "metadata": {},
     "output_type": "execute_result"
    }
   ],
   "source": [
    "df_data.columns"
   ]
  },
  {
   "cell_type": "code",
   "execution_count": 13,
   "metadata": {},
   "outputs": [
    {
     "data": {
      "text/plain": [
       "Taxa-dados         object\n",
       "Modelo-colisão     object\n",
       "E-Punho           float64\n",
       "D-Punho           float64\n",
       "E-Tornozelo       float64\n",
       "D-Tornozelo       float64\n",
       "Peito             float64\n",
       "Simulação          object\n",
       "dtype: object"
      ]
     },
     "execution_count": 13,
     "metadata": {},
     "output_type": "execute_result"
    }
   ],
   "source": [
    "df_data.dtypes"
   ]
  },
  {
   "cell_type": "code",
   "execution_count": 14,
   "metadata": {},
   "outputs": [
    {
     "data": {
      "text/html": [
       "<div>\n",
       "<style scoped>\n",
       "    .dataframe tbody tr th:only-of-type {\n",
       "        vertical-align: middle;\n",
       "    }\n",
       "\n",
       "    .dataframe tbody tr th {\n",
       "        vertical-align: top;\n",
       "    }\n",
       "\n",
       "    .dataframe thead th {\n",
       "        text-align: right;\n",
       "    }\n",
       "</style>\n",
       "<table border=\"1\" class=\"dataframe\">\n",
       "  <thead>\n",
       "    <tr style=\"text-align: right;\">\n",
       "      <th></th>\n",
       "      <th>E-Punho</th>\n",
       "      <th>D-Punho</th>\n",
       "      <th>E-Tornozelo</th>\n",
       "      <th>D-Tornozelo</th>\n",
       "      <th>Peito</th>\n",
       "    </tr>\n",
       "  </thead>\n",
       "  <tbody>\n",
       "    <tr>\n",
       "      <th>count</th>\n",
       "      <td>30.000000</td>\n",
       "      <td>30.000000</td>\n",
       "      <td>30.000000</td>\n",
       "      <td>30.000000</td>\n",
       "      <td>30.000000</td>\n",
       "    </tr>\n",
       "    <tr>\n",
       "      <th>mean</th>\n",
       "      <td>273.988934</td>\n",
       "      <td>367.015734</td>\n",
       "      <td>274.657479</td>\n",
       "      <td>354.499049</td>\n",
       "      <td>127.336802</td>\n",
       "    </tr>\n",
       "    <tr>\n",
       "      <th>std</th>\n",
       "      <td>173.906275</td>\n",
       "      <td>189.373644</td>\n",
       "      <td>200.881684</td>\n",
       "      <td>220.204646</td>\n",
       "      <td>96.009186</td>\n",
       "    </tr>\n",
       "    <tr>\n",
       "      <th>min</th>\n",
       "      <td>102.858000</td>\n",
       "      <td>102.666670</td>\n",
       "      <td>67.212930</td>\n",
       "      <td>45.920670</td>\n",
       "      <td>47.038600</td>\n",
       "    </tr>\n",
       "    <tr>\n",
       "      <th>25%</th>\n",
       "      <td>107.959670</td>\n",
       "      <td>104.160750</td>\n",
       "      <td>73.827190</td>\n",
       "      <td>50.497255</td>\n",
       "      <td>55.872070</td>\n",
       "    </tr>\n",
       "    <tr>\n",
       "      <th>50%</th>\n",
       "      <td>204.360000</td>\n",
       "      <td>496.767500</td>\n",
       "      <td>206.802835</td>\n",
       "      <td>497.625330</td>\n",
       "      <td>66.522270</td>\n",
       "    </tr>\n",
       "    <tr>\n",
       "      <th>75%</th>\n",
       "      <td>497.122332</td>\n",
       "      <td>498.514420</td>\n",
       "      <td>502.619918</td>\n",
       "      <td>506.266415</td>\n",
       "      <td>247.688997</td>\n",
       "    </tr>\n",
       "    <tr>\n",
       "      <th>max</th>\n",
       "      <td>544.006670</td>\n",
       "      <td>507.885330</td>\n",
       "      <td>689.358000</td>\n",
       "      <td>559.897330</td>\n",
       "      <td>302.124330</td>\n",
       "    </tr>\n",
       "  </tbody>\n",
       "</table>\n",
       "</div>"
      ],
      "text/plain": [
       "          E-Punho     D-Punho  E-Tornozelo  D-Tornozelo       Peito\n",
       "count   30.000000   30.000000    30.000000    30.000000   30.000000\n",
       "mean   273.988934  367.015734   274.657479   354.499049  127.336802\n",
       "std    173.906275  189.373644   200.881684   220.204646   96.009186\n",
       "min    102.858000  102.666670    67.212930    45.920670   47.038600\n",
       "25%    107.959670  104.160750    73.827190    50.497255   55.872070\n",
       "50%    204.360000  496.767500   206.802835   497.625330   66.522270\n",
       "75%    497.122332  498.514420   502.619918   506.266415  247.688997\n",
       "max    544.006670  507.885330   689.358000   559.897330  302.124330"
      ]
     },
     "execution_count": 14,
     "metadata": {},
     "output_type": "execute_result"
    }
   ],
   "source": [
    "df = df_data.describe()\n",
    "df"
   ]
  },
  {
   "cell_type": "code",
   "execution_count": 15,
   "metadata": {},
   "outputs": [],
   "source": [
    "value_vars = list(df.columns)\n",
    "id_vars = set(df_data.columns) - set(df.columns)\n",
    "id_vars = list(id_vars)"
   ]
  },
  {
   "cell_type": "markdown",
   "metadata": {},
   "source": [
    "### Reorganizando a tabela"
   ]
  },
  {
   "cell_type": "code",
   "execution_count": 16,
   "metadata": {},
   "outputs": [],
   "source": [
    "df = df_data.melt(id_vars=id_vars,\n",
    "                  value_vars=value_vars,\n",
    "                  value_name = 'Nanojoule',\n",
    "                  var_name='Nó-sensor'\n",
    "                 )"
   ]
  },
  {
   "cell_type": "code",
   "execution_count": null,
   "metadata": {},
   "outputs": [],
   "source": []
  },
  {
   "cell_type": "code",
   "execution_count": 17,
   "metadata": {},
   "outputs": [
    {
     "data": {
      "text/html": [
       "<div>\n",
       "<style scoped>\n",
       "    .dataframe tbody tr th:only-of-type {\n",
       "        vertical-align: middle;\n",
       "    }\n",
       "\n",
       "    .dataframe tbody tr th {\n",
       "        vertical-align: top;\n",
       "    }\n",
       "\n",
       "    .dataframe thead th {\n",
       "        text-align: right;\n",
       "    }\n",
       "</style>\n",
       "<table border=\"1\" class=\"dataframe\">\n",
       "  <thead>\n",
       "    <tr style=\"text-align: right;\">\n",
       "      <th></th>\n",
       "      <th>Simulação</th>\n",
       "      <th>Modelo-colisão</th>\n",
       "      <th>Taxa-dados</th>\n",
       "      <th>Nó-sensor</th>\n",
       "      <th>Nanojoule</th>\n",
       "    </tr>\n",
       "  </thead>\n",
       "  <tbody>\n",
       "    <tr>\n",
       "      <th>0</th>\n",
       "      <td>PA</td>\n",
       "      <td>sem colisão</td>\n",
       "      <td>alta</td>\n",
       "      <td>E-Punho</td>\n",
       "      <td>102.85800</td>\n",
       "    </tr>\n",
       "    <tr>\n",
       "      <th>1</th>\n",
       "      <td>PA</td>\n",
       "      <td>com colisão</td>\n",
       "      <td>alta</td>\n",
       "      <td>E-Punho</td>\n",
       "      <td>106.18667</td>\n",
       "    </tr>\n",
       "    <tr>\n",
       "      <th>2</th>\n",
       "      <td>PA</td>\n",
       "      <td>sem colisão</td>\n",
       "      <td>baixa</td>\n",
       "      <td>E-Punho</td>\n",
       "      <td>493.00367</td>\n",
       "    </tr>\n",
       "    <tr>\n",
       "      <th>3</th>\n",
       "      <td>PA</td>\n",
       "      <td>com colisão</td>\n",
       "      <td>baixa</td>\n",
       "      <td>E-Punho</td>\n",
       "      <td>493.84433</td>\n",
       "    </tr>\n",
       "    <tr>\n",
       "      <th>4</th>\n",
       "      <td>PA</td>\n",
       "      <td>sem colisão</td>\n",
       "      <td>média</td>\n",
       "      <td>E-Punho</td>\n",
       "      <td>197.28700</td>\n",
       "    </tr>\n",
       "    <tr>\n",
       "      <th>5</th>\n",
       "      <td>PA</td>\n",
       "      <td>com colisão</td>\n",
       "      <td>média</td>\n",
       "      <td>E-Punho</td>\n",
       "      <td>200.07700</td>\n",
       "    </tr>\n",
       "    <tr>\n",
       "      <th>6</th>\n",
       "      <td>PB</td>\n",
       "      <td>sem colisão</td>\n",
       "      <td>alta</td>\n",
       "      <td>E-Punho</td>\n",
       "      <td>107.94867</td>\n",
       "    </tr>\n",
       "    <tr>\n",
       "      <th>7</th>\n",
       "      <td>PB</td>\n",
       "      <td>com colisão</td>\n",
       "      <td>alta</td>\n",
       "      <td>E-Punho</td>\n",
       "      <td>120.87367</td>\n",
       "    </tr>\n",
       "    <tr>\n",
       "      <th>8</th>\n",
       "      <td>PB</td>\n",
       "      <td>sem colisão</td>\n",
       "      <td>baixa</td>\n",
       "      <td>E-Punho</td>\n",
       "      <td>506.68167</td>\n",
       "    </tr>\n",
       "    <tr>\n",
       "      <th>9</th>\n",
       "      <td>PB</td>\n",
       "      <td>com colisão</td>\n",
       "      <td>baixa</td>\n",
       "      <td>E-Punho</td>\n",
       "      <td>544.00667</td>\n",
       "    </tr>\n",
       "  </tbody>\n",
       "</table>\n",
       "</div>"
      ],
      "text/plain": [
       "  Simulação Modelo-colisão Taxa-dados Nó-sensor  Nanojoule\n",
       "0        PA    sem colisão       alta   E-Punho  102.85800\n",
       "1        PA    com colisão       alta   E-Punho  106.18667\n",
       "2        PA    sem colisão      baixa   E-Punho  493.00367\n",
       "3        PA    com colisão      baixa   E-Punho  493.84433\n",
       "4        PA    sem colisão      média   E-Punho  197.28700\n",
       "5        PA    com colisão      média   E-Punho  200.07700\n",
       "6        PB    sem colisão       alta   E-Punho  107.94867\n",
       "7        PB    com colisão       alta   E-Punho  120.87367\n",
       "8        PB    sem colisão      baixa   E-Punho  506.68167\n",
       "9        PB    com colisão      baixa   E-Punho  544.00667"
      ]
     },
     "execution_count": 17,
     "metadata": {},
     "output_type": "execute_result"
    }
   ],
   "source": [
    "df.head(10)"
   ]
  },
  {
   "cell_type": "code",
   "execution_count": 18,
   "metadata": {},
   "outputs": [
    {
     "data": {
      "text/plain": [
       "Simulação          object\n",
       "Modelo-colisão     object\n",
       "Taxa-dados         object\n",
       "Nó-sensor          object\n",
       "Nanojoule         float64\n",
       "dtype: object"
      ]
     },
     "execution_count": 18,
     "metadata": {},
     "output_type": "execute_result"
    }
   ],
   "source": [
    "df.dtypes"
   ]
  },
  {
   "cell_type": "markdown",
   "metadata": {},
   "source": [
    "## Visualization"
   ]
  },
  {
   "cell_type": "code",
   "execution_count": null,
   "metadata": {},
   "outputs": [],
   "source": []
  },
  {
   "cell_type": "code",
   "execution_count": 19,
   "metadata": {},
   "outputs": [
    {
     "data": {
      "image/png": "[encoded data removed]",
      "text/plain": [
       "<Figure size 1532x1080 with 6 Axes>"
      ]
     },
     "metadata": {
      "needs_background": "light"
     },
     "output_type": "display_data"
    }
   ],
   "source": [
    "g = sns.catplot(data=df,\n",
    "                x='Nó-sensor',\n",
    "                y='Nanojoule',\n",
    "                hue='Simulação',\n",
    "                hue_order=simulations,\n",
    "                col='Modelo-colisão',\n",
    "                row='Taxa-dados',\n",
    "                row_order=['baixa', 'média', 'alta'],\n",
    "                kind='bar',\n",
    "                height=5,\n",
    "                aspect=2,\n",
    "#                 ci=None,\n",
    "                sharex=False,\n",
    "               )"
   ]
  },
  {
   "cell_type": "markdown",
   "metadata": {},
   "source": [
    "### Codificação dos atributos para o gráfico\n",
    "\n",
    "Atributo       |      Tipo     |  Componente |\n",
    "---------------|---------------|-------------|\n",
    "Modelo-colisão |   categorico  | cor (colorido\\cinza) \n",
    "Simulação      |   categorico  | cor - (colorido)\n",
    "Taxa-dados     |   categorico  | ??\n",
    "Nó-sensor      |   categorico  | barra - eixo x\n",
    "Nanojoule      |   numérico    | altura - eixo y"
   ]
  },
  {
   "cell_type": "code",
   "execution_count": 20,
   "metadata": {},
   "outputs": [],
   "source": [
    "simulacao_attr = df['Simulação'].unique()\n",
    "taxa_dados_attr = df['Taxa-dados'].unique()\n",
    "modelo_colisao_attr = df['Modelo-colisão'].unique()\n",
    "no_sensor_attr = df['Nó-sensor'].unique()"
   ]
  },
  {
   "cell_type": "code",
   "execution_count": 21,
   "metadata": {},
   "outputs": [
    {
     "data": {
      "image/png": "[encoded data removed]",
      "text/plain": [
       "<Figure size 956x1080 with 10 Axes>"
      ]
     },
     "metadata": {
      "needs_background": "light"
     },
     "output_type": "display_data"
    }
   ],
   "source": [
    "g = sns.catplot(data=df,\n",
    "                x='Taxa-dados',\n",
    "                y='Nanojoule',\n",
    "                hue='Simulação',\n",
    "                hue_order=['PB', 'CL2', 'CL4','CLBinomial', 'PA'],\n",
    "                col='Modelo-colisão',\n",
    "                row='Nó-sensor',\n",
    "                kind='bar',\n",
    "                height=3,\n",
    "                aspect=2,\n",
    "#                 ci=None,\n",
    "                sharex=False,\n",
    "               )"
   ]
  },
  {
   "cell_type": "code",
   "execution_count": 22,
   "metadata": {},
   "outputs": [
    {
     "data": {
      "image/png": "[encoded data removed]",
      "text/plain": [
       "<Figure size 1532x1080 with 6 Axes>"
      ]
     },
     "metadata": {
      "needs_background": "light"
     },
     "output_type": "display_data"
    }
   ],
   "source": [
    "g = sns.catplot(data=df,\n",
    "                x='Nó-sensor',\n",
    "                y='Nanojoule',\n",
    "                hue='Simulação',\n",
    "                hue_order=['PB', 'CL2', 'CL4','CLBinomial', 'PA'],\n",
    "                col='Modelo-colisão',\n",
    "                row='Taxa-dados',\n",
    "                kind='bar',\n",
    "                height=5,\n",
    "                aspect=2,\n",
    "#                 ci=None,\n",
    "                sharex=False,\n",
    "               )"
   ]
  },
  {
   "cell_type": "code",
   "execution_count": null,
   "metadata": {},
   "outputs": [],
   "source": []
  },
  {
   "cell_type": "code",
   "execution_count": null,
   "metadata": {},
   "outputs": [],
   "source": []
  },
  {
   "cell_type": "code",
   "execution_count": 23,
   "metadata": {},
   "outputs": [
    {
     "data": {
      "image/png": "[encoded data removed]",
      "text/plain": [
       "<Figure size 504x360 with 1 Axes>"
      ]
     },
     "metadata": {
      "needs_background": "light"
     },
     "output_type": "display_data"
    }
   ],
   "source": [
    "f, ax = plt.subplots(figsize=(7, 5))\n",
    "\n",
    "data = df[df['Taxa-dados'] == 'baixa']\n",
    "\n",
    "sns.barplot(\n",
    "            y=\"Nanojoule\",\n",
    "            x=\"Nó-sensor\",\n",
    "            hue=\"Simulação\",\n",
    "            data=data[data['Modelo-colisão'] == 'com colisão'],\n",
    "            hatch='/',\n",
    "            color='b',\n",
    "            )\n",
    "sns.set_color_codes(\"muted\")\n",
    "\n",
    "ax = sns.barplot(\n",
    "            y=\"Nanojoule\",\n",
    "            x=\"Nó-sensor\",\n",
    "            hue=\"Simulação\",\n",
    "            data=data[data['Modelo-colisão'] == 'sem colisão'],\n",
    "            hatch='',\n",
    "            color='g',\n",
    "            )\n",
    "\n",
    "sns.despine(left=True, bottom=True)"
   ]
  },
  {
   "cell_type": "code",
   "execution_count": null,
   "metadata": {},
   "outputs": [],
   "source": []
  },
  {
   "cell_type": "code",
   "execution_count": null,
   "metadata": {},
   "outputs": [],
   "source": []
  }
 ],
 "metadata": {
  "kernelspec": {
   "display_name": "Python 3",
   "language": "python",
   "name": "python3"
  },
  "language_info": {
   "codemirror_mode": {
    "name": "ipython",
    "version": 3
   },
   "file_extension": ".py",
   "mimetype": "text/x-python",
   "name": "python",
   "nbconvert_exporter": "python",
   "pygments_lexer": "ipython3",
   "version": "3.6.8"
  }
 },
 "nbformat": 4,
 "nbformat_minor": 2
}
