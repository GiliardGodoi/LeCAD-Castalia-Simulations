{
 "cells": [
  {
   "cell_type": "markdown",
   "metadata": {},
   "source": [
    "# Template para pré-processamento"
   ]
  },
  {
   "cell_type": "markdown",
   "metadata": {},
   "source": [
    "## Importanto bibliotecas necessárias"
   ]
  },
  {
   "cell_type": "code",
   "execution_count": 1,
   "metadata": {},
   "outputs": [],
   "source": [
    "import pandas as pd\n",
    "import numpy as np\n",
    "\n",
    "from matplotlib import pyplot as plt\n",
    "import seaborn as sns\n",
    "\n",
    "sns.set_style('whitegrid')\n",
    "\n",
    "%matplotlib inline"
   ]
  },
  {
   "cell_type": "code",
   "execution_count": 2,
   "metadata": {},
   "outputs": [],
   "source": [
    "# deixar a pasta scripts vizivel no notebook\n",
    "%load_ext autoreload\n",
    "%autoreload 2\n",
    "\n",
    "import sys\n",
    "import os\n",
    "\n",
    "module_path = os.path.abspath(os.path.join('..', 'pyscripts'))\n",
    "if module_path not in sys.path :\n",
    "    sys.path.append(module_path)"
   ]
  },
  {
   "cell_type": "code",
   "execution_count": 3,
   "metadata": {},
   "outputs": [],
   "source": [
    "# import module from scripts folder\n",
    "import process_data"
   ]
  },
  {
   "cell_type": "markdown",
   "metadata": {},
   "source": [
    "## Pré-processamento dos dados"
   ]
  },
  {
   "cell_type": "code",
   "execution_count": 4,
   "metadata": {},
   "outputs": [],
   "source": [
    "## import dataset from ../data\n",
    "dataFolder = os.path.join('..','Simulations')\n",
    "\n",
    "# the same file will be searching\n",
    "mainFile = 'packet_breakdown.txt' \n",
    "\n",
    "simulationFolders = [\"PA\", \"PB\", \"CL2\", \"CL4\", \"CLBinomial\"]\n",
    "\n",
    "dfData = pd.DataFrame()\n",
    "\n",
    "for folder in simulationFolders:\n",
    "    data_file = os.path.join(dataFolder,folder,mainFile)\n",
    "#     df = process_data.parser_main_table(data_file)\n",
    "    df = process_data.parser_main_table(data_file)\n",
    "    df['Simulation'] = folder\n",
    "    dfData = dfData.append(df,ignore_index=True)\n",
    "\n",
    "del df"
   ]
  },
  {
   "cell_type": "code",
   "execution_count": 5,
   "metadata": {},
   "outputs": [
    {
     "data": {
      "text/plain": [
       "Index(['info_0', 'info_1', 'info_2', 'Failed, buffer overflow',\n",
       "       'Failed, busy channel', 'Failed, no ack', 'Success, first try',\n",
       "       'Success, not first try', 'Simulation'],\n",
       "      dtype='object')"
      ]
     },
     "execution_count": 5,
     "metadata": {},
     "output_type": "execute_result"
    }
   ],
   "source": [
    "dfData.columns"
   ]
  },
  {
   "cell_type": "code",
   "execution_count": 6,
   "metadata": {},
   "outputs": [
    {
     "data": {
      "text/html": [
       "<div>\n",
       "<style scoped>\n",
       "    .dataframe tbody tr th:only-of-type {\n",
       "        vertical-align: middle;\n",
       "    }\n",
       "\n",
       "    .dataframe tbody tr th {\n",
       "        vertical-align: top;\n",
       "    }\n",
       "\n",
       "    .dataframe thead th {\n",
       "        text-align: right;\n",
       "    }\n",
       "</style>\n",
       "<table border=\"1\" class=\"dataframe\">\n",
       "  <thead>\n",
       "    <tr style=\"text-align: right;\">\n",
       "      <th></th>\n",
       "      <th>info_0</th>\n",
       "      <th>info_1</th>\n",
       "      <th>info_2</th>\n",
       "      <th>Failed, buffer overflow</th>\n",
       "      <th>Failed, busy channel</th>\n",
       "      <th>Failed, no ack</th>\n",
       "      <th>Success, first try</th>\n",
       "      <th>Success, not first try</th>\n",
       "      <th>Simulation</th>\n",
       "    </tr>\n",
       "  </thead>\n",
       "  <tbody>\n",
       "    <tr>\n",
       "      <th>0</th>\n",
       "      <td>setRateHigh</td>\n",
       "      <td>InterfModel=0</td>\n",
       "      <td>node=1</td>\n",
       "      <td>0</td>\n",
       "      <td>0.03636</td>\n",
       "      <td>0.02924</td>\n",
       "      <td>0.73991</td>\n",
       "      <td>0.19448</td>\n",
       "      <td>PA</td>\n",
       "    </tr>\n",
       "    <tr>\n",
       "      <th>1</th>\n",
       "      <td>setRateHigh</td>\n",
       "      <td>InterfModel=0</td>\n",
       "      <td>node=2</td>\n",
       "      <td>0</td>\n",
       "      <td>0.03415</td>\n",
       "      <td>0.01313</td>\n",
       "      <td>0.76674</td>\n",
       "      <td>0.18598</td>\n",
       "      <td>PA</td>\n",
       "    </tr>\n",
       "    <tr>\n",
       "      <th>2</th>\n",
       "      <td>setRateHigh</td>\n",
       "      <td>InterfModel=0</td>\n",
       "      <td>node=3</td>\n",
       "      <td>0</td>\n",
       "      <td>0.02313</td>\n",
       "      <td>0.04063</td>\n",
       "      <td>0.75252</td>\n",
       "      <td>0.18372</td>\n",
       "      <td>PA</td>\n",
       "    </tr>\n",
       "    <tr>\n",
       "      <th>3</th>\n",
       "      <td>setRateHigh</td>\n",
       "      <td>InterfModel=0</td>\n",
       "      <td>node=4</td>\n",
       "      <td>0.12637</td>\n",
       "      <td>0.01254</td>\n",
       "      <td>0.01919</td>\n",
       "      <td>0.70874</td>\n",
       "      <td>0.13315</td>\n",
       "      <td>PA</td>\n",
       "    </tr>\n",
       "    <tr>\n",
       "      <th>4</th>\n",
       "      <td>setRateHigh</td>\n",
       "      <td>InterfModel=0</td>\n",
       "      <td>node=5</td>\n",
       "      <td>0.15026</td>\n",
       "      <td>0.01161</td>\n",
       "      <td>0.02518</td>\n",
       "      <td>0.70296</td>\n",
       "      <td>0.11</td>\n",
       "      <td>PA</td>\n",
       "    </tr>\n",
       "  </tbody>\n",
       "</table>\n",
       "</div>"
      ],
      "text/plain": [
       "        info_0         info_1  info_2 Failed, buffer overflow  \\\n",
       "0  setRateHigh  InterfModel=0  node=1                       0   \n",
       "1  setRateHigh  InterfModel=0  node=2                       0   \n",
       "2  setRateHigh  InterfModel=0  node=3                       0   \n",
       "3  setRateHigh  InterfModel=0  node=4                 0.12637   \n",
       "4  setRateHigh  InterfModel=0  node=5                 0.15026   \n",
       "\n",
       "  Failed, busy channel Failed, no ack Success, first try  \\\n",
       "0              0.03636        0.02924            0.73991   \n",
       "1              0.03415        0.01313            0.76674   \n",
       "2              0.02313        0.04063            0.75252   \n",
       "3              0.01254        0.01919            0.70874   \n",
       "4              0.01161        0.02518            0.70296   \n",
       "\n",
       "  Success, not first try Simulation  \n",
       "0                0.19448         PA  \n",
       "1                0.18598         PA  \n",
       "2                0.18372         PA  \n",
       "3                0.13315         PA  \n",
       "4                   0.11         PA  "
      ]
     },
     "execution_count": 6,
     "metadata": {},
     "output_type": "execute_result"
    }
   ],
   "source": [
    "dfData.head()"
   ]
  },
  {
   "cell_type": "markdown",
   "metadata": {},
   "source": [
    "### Certificar que os tipos de dados são apropriados"
   ]
  },
  {
   "cell_type": "code",
   "execution_count": 7,
   "metadata": {},
   "outputs": [],
   "source": [
    "numericColumns = [\n",
    "    'Failed, buffer overflow',\n",
    "    'Failed, busy channel' ,\n",
    "    'Failed, no ack',\n",
    "    'Success, first try',\n",
    "    'Success, not first try'\n",
    "]\n",
    "\n",
    "dfData[numericColumns] = dfData[numericColumns].astype('float')\n",
    "dfData[numericColumns] *= 100"
   ]
  },
  {
   "cell_type": "code",
   "execution_count": 8,
   "metadata": {},
   "outputs": [],
   "source": [
    "nodes_PT = { \n",
    "        'node=1': 'E-Punho',\n",
    "        'node=2': 'D-Punho',\n",
    "        'node=3': 'E-Tornozelo',\n",
    "        'node=4': 'D-Tornozelo',\n",
    "        'node=5': 'Peito',\n",
    "        'node=0' : 'Cintura'\n",
    "    }\n",
    "\n",
    "nodes_ENG = { \n",
    "        'node=1': 'L-wrist',\n",
    "        'node=2': 'R-wrist',\n",
    "        'node=3': 'L-ankle',\n",
    "        'node=4': 'R-ankle',\n",
    "        'node=5': 'chest',\n",
    "    }\n",
    "\n",
    "def infer_node(value,mapper=nodes_PT):\n",
    "    return mapper[value]\n",
    "\n",
    "dfData['info_1'] = dfData['info_1'].apply(infer_node)"
   ]
  },
  {
   "cell_type": "code",
   "execution_count": 9,
   "metadata": {},
   "outputs": [],
   "source": [
    "def clean_attr(str_value):\n",
    "    index = str_value.find('=')\n",
    "    if index >= 0 :\n",
    "        return str_value[(index+1):]\n",
    "    else:\n",
    "        return str_value\n",
    "    \n",
    "def change_collisionModel_attr(str_value):\n",
    "    \n",
    "    index = clean_attr(str_value)\n",
    "    \n",
    "    if index == '1':\n",
    "        return 'with interference' # 'with collision'\n",
    "    else: # == 0\n",
    "        return 'without interference' # 'without collision'\n",
    "    \n",
    "dfData['info_0'] = dfData['info_0'].apply(change_collisionModel_attr)"
   ]
  },
  {
   "cell_type": "code",
   "execution_count": 10,
   "metadata": {},
   "outputs": [],
   "source": [
    "columnTranslate = {\n",
    "    'info_0' : 'Modelo de colisão',\n",
    "    'info_1' : 'Nó sensor',\n",
    "    'info_2' : 'Repetição',\n",
    "    'Failed, buffer overflow': 'Falha, estouro de buffer',\n",
    "    'Failed, busy channel' : 'Falha, canal ocupado',\n",
    "    'Failed, no ack': 'Falha, não recebimento ACK', \n",
    "    'Success, first try' : 'Sucesso, primeira tentativa',\n",
    "    'Success, not first try' : 'Sucesso, retransmissão',\n",
    "    'Simulation' : 'Simulação'\n",
    "}\n",
    "\n",
    "# columnTranslate = {\n",
    "#     'info_0' : 'Collision model',\n",
    "#     'info_1' : 'Node',\n",
    "#     'info_2' : 'Repetition',\n",
    "# }\n",
    "\n",
    "dfData.rename(mapper=columnTranslate,axis='columns', inplace=True)"
   ]
  },
  {
   "cell_type": "code",
   "execution_count": 11,
   "metadata": {
    "scrolled": true
   },
   "outputs": [
    {
     "data": {
      "text/html": [
       "<div>\n",
       "<style scoped>\n",
       "    .dataframe tbody tr th:only-of-type {\n",
       "        vertical-align: middle;\n",
       "    }\n",
       "\n",
       "    .dataframe tbody tr th {\n",
       "        vertical-align: top;\n",
       "    }\n",
       "\n",
       "    .dataframe thead th {\n",
       "        text-align: right;\n",
       "    }\n",
       "</style>\n",
       "<table border=\"1\" class=\"dataframe\">\n",
       "  <thead>\n",
       "    <tr style=\"text-align: right;\">\n",
       "      <th></th>\n",
       "      <th>Modelo de colisão</th>\n",
       "      <th>Nó sensor</th>\n",
       "      <th>Falha, estouro de buffer</th>\n",
       "      <th>Falha, canal ocupado</th>\n",
       "      <th>Falha, não recebimento ACK</th>\n",
       "      <th>Sucesso, primeira tentativa</th>\n",
       "      <th>Sucesso, retransmissão</th>\n",
       "      <th>Simulação</th>\n",
       "    </tr>\n",
       "  </thead>\n",
       "  <tbody>\n",
       "    <tr>\n",
       "      <th>0</th>\n",
       "      <td>without interference</td>\n",
       "      <td>E-Punho</td>\n",
       "      <td>0.000</td>\n",
       "      <td>3.636</td>\n",
       "      <td>2.924</td>\n",
       "      <td>73.991</td>\n",
       "      <td>19.448</td>\n",
       "      <td>PA</td>\n",
       "    </tr>\n",
       "    <tr>\n",
       "      <th>1</th>\n",
       "      <td>without interference</td>\n",
       "      <td>D-Punho</td>\n",
       "      <td>0.000</td>\n",
       "      <td>3.415</td>\n",
       "      <td>1.313</td>\n",
       "      <td>76.674</td>\n",
       "      <td>18.598</td>\n",
       "      <td>PA</td>\n",
       "    </tr>\n",
       "    <tr>\n",
       "      <th>2</th>\n",
       "      <td>without interference</td>\n",
       "      <td>E-Tornozelo</td>\n",
       "      <td>0.000</td>\n",
       "      <td>2.313</td>\n",
       "      <td>4.063</td>\n",
       "      <td>75.252</td>\n",
       "      <td>18.372</td>\n",
       "      <td>PA</td>\n",
       "    </tr>\n",
       "    <tr>\n",
       "      <th>3</th>\n",
       "      <td>without interference</td>\n",
       "      <td>D-Tornozelo</td>\n",
       "      <td>12.637</td>\n",
       "      <td>1.254</td>\n",
       "      <td>1.919</td>\n",
       "      <td>70.874</td>\n",
       "      <td>13.315</td>\n",
       "      <td>PA</td>\n",
       "    </tr>\n",
       "    <tr>\n",
       "      <th>4</th>\n",
       "      <td>without interference</td>\n",
       "      <td>Peito</td>\n",
       "      <td>15.026</td>\n",
       "      <td>1.161</td>\n",
       "      <td>2.518</td>\n",
       "      <td>70.296</td>\n",
       "      <td>11.000</td>\n",
       "      <td>PA</td>\n",
       "    </tr>\n",
       "  </tbody>\n",
       "</table>\n",
       "</div>"
      ],
      "text/plain": [
       "      Modelo de colisão    Nó sensor  Falha, estouro de buffer  \\\n",
       "0  without interference      E-Punho                     0.000   \n",
       "1  without interference      D-Punho                     0.000   \n",
       "2  without interference  E-Tornozelo                     0.000   \n",
       "3  without interference  D-Tornozelo                    12.637   \n",
       "4  without interference        Peito                    15.026   \n",
       "\n",
       "   Falha, canal ocupado  Falha, não recebimento ACK  \\\n",
       "0                 3.636                       2.924   \n",
       "1                 3.415                       1.313   \n",
       "2                 2.313                       4.063   \n",
       "3                 1.254                       1.919   \n",
       "4                 1.161                       2.518   \n",
       "\n",
       "   Sucesso, primeira tentativa  Sucesso, retransmissão Simulação  \n",
       "0                       73.991                  19.448        PA  \n",
       "1                       76.674                  18.598        PA  \n",
       "2                       75.252                  18.372        PA  \n",
       "3                       70.874                  13.315        PA  \n",
       "4                       70.296                  11.000        PA  "
      ]
     },
     "execution_count": 11,
     "metadata": {},
     "output_type": "execute_result"
    }
   ],
   "source": [
    "dfData.head()"
   ]
  },
  {
   "cell_type": "code",
   "execution_count": 12,
   "metadata": {},
   "outputs": [
    {
     "data": {
      "text/plain": [
       "Modelo de colisão               object\n",
       "Nó sensor                       object\n",
       "Falha, estouro de buffer       float64\n",
       "Falha, canal ocupado           float64\n",
       "Falha, não recebimento ACK     float64\n",
       "Sucesso, primeira tentativa    float64\n",
       "Sucesso, retransmissão         float64\n",
       "Simulação                       object\n",
       "dtype: object"
      ]
     },
     "execution_count": 12,
     "metadata": {},
     "output_type": "execute_result"
    }
   ],
   "source": [
    "dfData.dtypes"
   ]
  },
  {
   "cell_type": "code",
   "execution_count": 13,
   "metadata": {},
   "outputs": [
    {
     "data": {
      "text/plain": [
       "Index(['Modelo de colisão', 'Nó sensor', 'Falha, estouro de buffer',\n",
       "       'Falha, canal ocupado', 'Falha, não recebimento ACK',\n",
       "       'Sucesso, primeira tentativa', 'Sucesso, retransmissão', 'Simulação'],\n",
       "      dtype='object')"
      ]
     },
     "execution_count": 13,
     "metadata": {},
     "output_type": "execute_result"
    }
   ],
   "source": [
    "dfData.columns"
   ]
  },
  {
   "cell_type": "markdown",
   "metadata": {},
   "source": [
    "## Visualization "
   ]
  },
  {
   "cell_type": "code",
   "execution_count": 14,
   "metadata": {},
   "outputs": [],
   "source": [
    "# save images at ..\n",
    "imageFolder = 'images'\n",
    "isSaveImage = True\n",
    "\n",
    "def save_image(img,file_name,file_ext='.png'):\n",
    "    \n",
    "    if not isSaveImage:\n",
    "        return\n",
    "    \n",
    "    if not file_name.endswith(file_ext):\n",
    "        file_name += file_ext\n",
    "    \n",
    "    if type(img) == sns.axisgrid.FacetGrid :\n",
    "        img.savefig(os.path.join(imageFolder,file_name))"
   ]
  },
  {
   "cell_type": "code",
   "execution_count": 24,
   "metadata": {},
   "outputs": [
    {
     "data": {
      "image/png": "[encoded data removed]",
      "text/plain": [
       "<Figure size 812x360 with 1 Axes>"
      ]
     },
     "metadata": {
      "needs_background": "light"
     },
     "output_type": "display_data"
    }
   ],
   "source": [
    "ax = g = sns.catplot(data=dfData,\n",
    "                x='Nó sensor',\n",
    "                y='Falha, não recebimento ACK',\n",
    "                hue='Simulação',\n",
    "                hue_order=[\"PA\", \"PB\", \"CL2\", \"CL4\", \"CLBinomial\"],\n",
    "                col='Modelo de colisão',\n",
    "                kind='bar',\n",
    "                height=5,\n",
    "                aspect=2,\n",
    "                ci=None,\n",
    "                hatch='/'\n",
    "               )"
   ]
  },
  {
   "cell_type": "code",
   "execution_count": 37,
   "metadata": {},
   "outputs": [
    {
     "data": {
      "image/png": "[encoded data removed]",
      "text/plain": [
       "<Figure size 812x360 with 1 Axes>"
      ]
     },
     "metadata": {
      "needs_background": "light"
     },
     "output_type": "display_data"
    }
   ],
   "source": [
    "g = sns.catplot(data=dfData,\n",
    "                x='Nó sensor',\n",
    "                y='Falha, estouro de buffer',\n",
    "                hue='Simulação',\n",
    "                hue_order=[\"PA\", \"PB\", \"CL2\", \"CL4\", \"CLBinomial\"],\n",
    "                col='Modelo de colisão',\n",
    "                kind='bar',\n",
    "                height=5,\n",
    "                aspect=2,\n",
    "                ci=None,\n",
    "                hatch='x'\n",
    "               )"
   ]
  },
  {
   "cell_type": "code",
   "execution_count": 22,
   "metadata": {},
   "outputs": [
    {
     "data": {
      "image/png": "[encoded data removed]",
      "text/plain": [
       "<Figure size 812x360 with 1 Axes>"
      ]
     },
     "metadata": {
      "needs_background": "light"
     },
     "output_type": "display_data"
    }
   ],
   "source": [
    "g = sns.catplot(data=dfData,\n",
    "                x='Nó sensor',\n",
    "                y='Falha, canal ocupado',\n",
    "                hue='Simulação',\n",
    "                hue_order=[\"PA\", \"PB\", \"CL2\", \"CL4\", \"CLBinomial\"],\n",
    "                col='Modelo de colisão',\n",
    "                kind='bar',\n",
    "                height=5,\n",
    "                aspect=2,\n",
    "                ci=None\n",
    "               )"
   ]
  },
  {
   "cell_type": "code",
   "execution_count": null,
   "metadata": {},
   "outputs": [],
   "source": []
  }
 ],
 "metadata": {
  "kernelspec": {
   "display_name": "Python 3",
   "language": "python",
   "name": "python3"
  },
  "language_info": {
   "codemirror_mode": {
    "name": "ipython",
    "version": 3
   },
   "file_extension": ".py",
   "mimetype": "text/x-python",
   "name": "python",
   "nbconvert_exporter": "python",
   "pygments_lexer": "ipython3",
   "version": "3.6.8"
  }
 },
 "nbformat": 4,
 "nbformat_minor": 2
}
