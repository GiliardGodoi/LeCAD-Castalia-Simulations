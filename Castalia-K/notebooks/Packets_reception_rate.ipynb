{
 "cells": [
  {
   "cell_type": "markdown",
   "metadata": {
    "slideshow": {
     "slide_type": "slide"
    }
   },
   "source": [
    "# Packets Reception Rate"
   ]
  },
  {
   "cell_type": "code",
   "execution_count": 1,
   "metadata": {
    "slideshow": {
     "slide_type": "skip"
    }
   },
   "outputs": [],
   "source": [
    "import pandas as pd\n",
    "import numpy as np\n",
    "\n",
    "import matplotlib\n",
    "from matplotlib import pyplot as plt\n",
    "import seaborn as sns\n",
    "\n",
    "sns.set_style('whitegrid')\n",
    "\n",
    "%matplotlib inline"
   ]
  },
  {
   "cell_type": "code",
   "execution_count": 2,
   "metadata": {},
   "outputs": [
    {
     "data": {
      "image/png": "[encoded data removed]",
      "text/plain": [
       "<Figure size 720x72 with 1 Axes>"
      ]
     },
     "metadata": {
      "needs_background": "light"
     },
     "output_type": "display_data"
    }
   ],
   "source": [
    "sns.palplot(sns.color_palette())"
   ]
  },
  {
   "cell_type": "code",
   "execution_count": 3,
   "metadata": {
    "slideshow": {
     "slide_type": "slide"
    }
   },
   "outputs": [],
   "source": [
    "# deixar a pasta scripts vizivel no notebook\n",
    "%load_ext autoreload\n",
    "%autoreload 2\n",
    "\n",
    "import sys\n",
    "import os\n",
    "\n",
    "module_path = os.path.abspath(os.path.join('..', 'pyscripts'))\n",
    "if module_path not in sys.path :\n",
    "    sys.path.append(module_path)"
   ]
  },
  {
   "cell_type": "code",
   "execution_count": 4,
   "metadata": {
    "slideshow": {
     "slide_type": "slide"
    }
   },
   "outputs": [],
   "source": [
    "# import module from scripts folder\n",
    "import process_data"
   ]
  },
  {
   "cell_type": "markdown",
   "metadata": {
    "slideshow": {
     "slide_type": "slide"
    }
   },
   "source": [
    "## Pre processing "
   ]
  },
  {
   "cell_type": "code",
   "execution_count": 5,
   "metadata": {
    "slideshow": {
     "slide_type": "subslide"
    }
   },
   "outputs": [],
   "source": [
    "## import dataset from ../data\n",
    "data_folder = os.path.join('..','Simulations')\n",
    "\n",
    "# the same file will be searching\n",
    "main_file = 'packets_reception_rate.txt' \n",
    "\n",
    "simulations = ['PA','PB','CL2','CL4','CLBinomial']\n",
    "\n",
    "DF_DATA = pd.DataFrame()\n",
    "\n",
    "for folder in simulations:\n",
    "    data_file = os.path.join(data_folder,folder,main_file)\n",
    "    df = process_data.parser_main_table(data_file)\n",
    "#     df = process_data.parser_allvalues_table(data_file)\n",
    "    df['Simulation'] = folder\n",
    "    DF_DATA = DF_DATA.append(df,ignore_index=True)\n",
    "\n",
    "del df"
   ]
  },
  {
   "cell_type": "code",
   "execution_count": 6,
   "metadata": {
    "slideshow": {
     "slide_type": "subslide"
    }
   },
   "outputs": [
    {
     "data": {
      "text/plain": [
       "Index(['info_0', 'info_1', 'index=1', 'index=2', 'index=3', 'index=4',\n",
       "       'index=5', 'Simulation'],\n",
       "      dtype='object')"
      ]
     },
     "execution_count": 6,
     "metadata": {},
     "output_type": "execute_result"
    }
   ],
   "source": [
    "DF_DATA.columns"
   ]
  },
  {
   "cell_type": "code",
   "execution_count": 7,
   "metadata": {
    "slideshow": {
     "slide_type": "subslide"
    }
   },
   "outputs": [
    {
     "data": {
      "text/html": [
       "<div>\n",
       "<style scoped>\n",
       "    .dataframe tbody tr th:only-of-type {\n",
       "        vertical-align: middle;\n",
       "    }\n",
       "\n",
       "    .dataframe tbody tr th {\n",
       "        vertical-align: top;\n",
       "    }\n",
       "\n",
       "    .dataframe thead th {\n",
       "        text-align: right;\n",
       "    }\n",
       "</style>\n",
       "<table border=\"1\" class=\"dataframe\">\n",
       "  <thead>\n",
       "    <tr style=\"text-align: right;\">\n",
       "      <th></th>\n",
       "      <th>info_0</th>\n",
       "      <th>info_1</th>\n",
       "      <th>index=1</th>\n",
       "      <th>index=2</th>\n",
       "      <th>index=3</th>\n",
       "      <th>index=4</th>\n",
       "      <th>index=5</th>\n",
       "      <th>Simulation</th>\n",
       "    </tr>\n",
       "  </thead>\n",
       "  <tbody>\n",
       "    <tr>\n",
       "      <th>0</th>\n",
       "      <td>setRateHigh</td>\n",
       "      <td>InterfModel=0</td>\n",
       "      <td>0.9472</td>\n",
       "      <td>0.95699</td>\n",
       "      <td>0.95399</td>\n",
       "      <td>0.84736</td>\n",
       "      <td>0.81749</td>\n",
       "      <td>PA</td>\n",
       "    </tr>\n",
       "    <tr>\n",
       "      <th>1</th>\n",
       "      <td>setRateHigh</td>\n",
       "      <td>InterfModel=2</td>\n",
       "      <td>0.91764</td>\n",
       "      <td>0.95943</td>\n",
       "      <td>0.92665</td>\n",
       "      <td>0.77992</td>\n",
       "      <td>0.75297</td>\n",
       "      <td>PA</td>\n",
       "    </tr>\n",
       "    <tr>\n",
       "      <th>2</th>\n",
       "      <td>setRateLow</td>\n",
       "      <td>InterfModel=0</td>\n",
       "      <td>0.98943</td>\n",
       "      <td>0.99889</td>\n",
       "      <td>0.98052</td>\n",
       "      <td>0.9861</td>\n",
       "      <td>0.97971</td>\n",
       "      <td>PA</td>\n",
       "    </tr>\n",
       "    <tr>\n",
       "      <th>3</th>\n",
       "      <td>setRateLow</td>\n",
       "      <td>InterfModel=2</td>\n",
       "      <td>0.99054</td>\n",
       "      <td>0.99833</td>\n",
       "      <td>0.97384</td>\n",
       "      <td>0.98498</td>\n",
       "      <td>0.97554</td>\n",
       "      <td>PA</td>\n",
       "    </tr>\n",
       "    <tr>\n",
       "      <th>4</th>\n",
       "      <td>setRateMedium</td>\n",
       "      <td>InterfModel=0</td>\n",
       "      <td>0.98732</td>\n",
       "      <td>0.99499</td>\n",
       "      <td>0.97665</td>\n",
       "      <td>0.98888</td>\n",
       "      <td>0.98496</td>\n",
       "      <td>PA</td>\n",
       "    </tr>\n",
       "  </tbody>\n",
       "</table>\n",
       "</div>"
      ],
      "text/plain": [
       "          info_0         info_1  index=1  index=2  index=3  index=4  index=5  \\\n",
       "0    setRateHigh  InterfModel=0   0.9472  0.95699  0.95399  0.84736  0.81749   \n",
       "1    setRateHigh  InterfModel=2  0.91764  0.95943  0.92665  0.77992  0.75297   \n",
       "2     setRateLow  InterfModel=0  0.98943  0.99889  0.98052   0.9861  0.97971   \n",
       "3     setRateLow  InterfModel=2  0.99054  0.99833  0.97384  0.98498  0.97554   \n",
       "4  setRateMedium  InterfModel=0  0.98732  0.99499  0.97665  0.98888  0.98496   \n",
       "\n",
       "  Simulation  \n",
       "0         PA  \n",
       "1         PA  \n",
       "2         PA  \n",
       "3         PA  \n",
       "4         PA  "
      ]
     },
     "execution_count": 7,
     "metadata": {},
     "output_type": "execute_result"
    }
   ],
   "source": [
    "DF_DATA.head()"
   ]
  },
  {
   "cell_type": "markdown",
   "metadata": {},
   "source": [
    "## Normalizando dados"
   ]
  },
  {
   "cell_type": "code",
   "execution_count": 8,
   "metadata": {
    "slideshow": {
     "slide_type": "subslide"
    }
   },
   "outputs": [],
   "source": [
    "numeric_columns = ['index=1', 'index=2', 'index=3', 'index=4', 'index=5']\n",
    "DF_DATA[numeric_columns] = DF_DATA[numeric_columns].astype('float')\n",
    "\n",
    "DF_DATA[numeric_columns] *= 100"
   ]
  },
  {
   "cell_type": "code",
   "execution_count": 9,
   "metadata": {},
   "outputs": [],
   "source": [
    "taxa_dados = {\n",
    "    'setRateLow' : 'baixa',\n",
    "    'setRateMedium': 'média',\n",
    "    'setRateHigh' : 'alta'\n",
    "}\n",
    "\n",
    "packet_rate = {\n",
    "    'setRateLow' : 'low',\n",
    "    'setRateMedium': 'medium',\n",
    "    'setRateHigh' : 'high'\n",
    "}\n",
    "\n",
    "def infer_packet_rate(value,mapper=taxa_dados):\n",
    "    return mapper.get(value,value)\n",
    "\n",
    "DF_DATA['info_0'] = DF_DATA['info_0'].apply(infer_packet_rate)"
   ]
  },
  {
   "cell_type": "code",
   "execution_count": 10,
   "metadata": {},
   "outputs": [],
   "source": [
    "modelo_colisao = {\n",
    "    'InterfModel=0': 'sem colisão',\n",
    "    'InterfModel=2': 'com colisão'\n",
    "}\n",
    "\n",
    "collision_model = {\n",
    "    'InterfModel=0': 'without collision',\n",
    "    'InterfModel=2': 'with collision'\n",
    "}\n",
    "\n",
    "def infer_collision_model(value,mapper=modelo_colisao):\n",
    "    return mapper.get(value,value)\n",
    "\n",
    "DF_DATA['info_1'] = DF_DATA['info_1'].apply(infer_collision_model)"
   ]
  },
  {
   "cell_type": "markdown",
   "metadata": {},
   "source": [
    "### Renomeando colunas"
   ]
  },
  {
   "cell_type": "code",
   "execution_count": 11,
   "metadata": {},
   "outputs": [],
   "source": [
    "columns_portuguese = {\n",
    "        'info_0': 'Taxa de dados',\n",
    "        'info_1': 'Modelo de colisão',\n",
    "        'index=1': 'E-Punho',\n",
    "        'index=2': 'D-Punho',\n",
    "        'index=3': 'E-Tornozelo',\n",
    "        'index=4': 'D-Tornozelo',\n",
    "        'index=5': 'Peito',\n",
    "        'index=0': 'Sink'\n",
    "    }\n",
    "\n",
    "columns_english = {\n",
    "        'info_0': 'Packet rate',\n",
    "        'info_1': 'Collision model',\n",
    "        'index=1': 'L-wrist',\n",
    "        'index=2': 'R-wrist',\n",
    "        'index=3': 'L-ankle',\n",
    "        'index=4': 'R-ankle',\n",
    "        'index=5': 'chest',\n",
    "        'index=0': 'sink'\n",
    "    }\n",
    "\n",
    "DF_DATA.rename(mapper=columns_portuguese,axis='columns', inplace=True)"
   ]
  },
  {
   "cell_type": "code",
   "execution_count": 12,
   "metadata": {
    "slideshow": {
     "slide_type": "skip"
    }
   },
   "outputs": [
    {
     "data": {
      "text/html": [
       "<div>\n",
       "<style scoped>\n",
       "    .dataframe tbody tr th:only-of-type {\n",
       "        vertical-align: middle;\n",
       "    }\n",
       "\n",
       "    .dataframe tbody tr th {\n",
       "        vertical-align: top;\n",
       "    }\n",
       "\n",
       "    .dataframe thead th {\n",
       "        text-align: right;\n",
       "    }\n",
       "</style>\n",
       "<table border=\"1\" class=\"dataframe\">\n",
       "  <thead>\n",
       "    <tr style=\"text-align: right;\">\n",
       "      <th></th>\n",
       "      <th>E-Punho</th>\n",
       "      <th>D-Punho</th>\n",
       "      <th>E-Tornozelo</th>\n",
       "      <th>D-Tornozelo</th>\n",
       "      <th>Peito</th>\n",
       "    </tr>\n",
       "  </thead>\n",
       "  <tbody>\n",
       "    <tr>\n",
       "      <th>count</th>\n",
       "      <td>30.000000</td>\n",
       "      <td>30.000000</td>\n",
       "      <td>30.000000</td>\n",
       "      <td>30.000000</td>\n",
       "      <td>30.000000</td>\n",
       "    </tr>\n",
       "    <tr>\n",
       "      <th>mean</th>\n",
       "      <td>91.776233</td>\n",
       "      <td>97.602833</td>\n",
       "      <td>88.758267</td>\n",
       "      <td>89.392833</td>\n",
       "      <td>85.507800</td>\n",
       "    </tr>\n",
       "    <tr>\n",
       "      <th>std</th>\n",
       "      <td>7.308813</td>\n",
       "      <td>2.262199</td>\n",
       "      <td>10.604224</td>\n",
       "      <td>9.988492</td>\n",
       "      <td>14.669343</td>\n",
       "    </tr>\n",
       "    <tr>\n",
       "      <th>min</th>\n",
       "      <td>72.013000</td>\n",
       "      <td>91.475000</td>\n",
       "      <td>62.481000</td>\n",
       "      <td>63.905000</td>\n",
       "      <td>40.356000</td>\n",
       "    </tr>\n",
       "    <tr>\n",
       "      <th>25%</th>\n",
       "      <td>90.252500</td>\n",
       "      <td>95.673500</td>\n",
       "      <td>90.076000</td>\n",
       "      <td>82.930000</td>\n",
       "      <td>75.691750</td>\n",
       "    </tr>\n",
       "    <tr>\n",
       "      <th>50%</th>\n",
       "      <td>94.744500</td>\n",
       "      <td>98.525500</td>\n",
       "      <td>93.069500</td>\n",
       "      <td>95.855000</td>\n",
       "      <td>94.176500</td>\n",
       "    </tr>\n",
       "    <tr>\n",
       "      <th>75%</th>\n",
       "      <td>96.043500</td>\n",
       "      <td>99.499000</td>\n",
       "      <td>94.352000</td>\n",
       "      <td>97.873000</td>\n",
       "      <td>97.232750</td>\n",
       "    </tr>\n",
       "    <tr>\n",
       "      <th>max</th>\n",
       "      <td>99.054000</td>\n",
       "      <td>99.889000</td>\n",
       "      <td>98.052000</td>\n",
       "      <td>99.277000</td>\n",
       "      <td>98.496000</td>\n",
       "    </tr>\n",
       "  </tbody>\n",
       "</table>\n",
       "</div>"
      ],
      "text/plain": [
       "         E-Punho    D-Punho  E-Tornozelo  D-Tornozelo      Peito\n",
       "count  30.000000  30.000000    30.000000    30.000000  30.000000\n",
       "mean   91.776233  97.602833    88.758267    89.392833  85.507800\n",
       "std     7.308813   2.262199    10.604224     9.988492  14.669343\n",
       "min    72.013000  91.475000    62.481000    63.905000  40.356000\n",
       "25%    90.252500  95.673500    90.076000    82.930000  75.691750\n",
       "50%    94.744500  98.525500    93.069500    95.855000  94.176500\n",
       "75%    96.043500  99.499000    94.352000    97.873000  97.232750\n",
       "max    99.054000  99.889000    98.052000    99.277000  98.496000"
      ]
     },
     "execution_count": 12,
     "metadata": {},
     "output_type": "execute_result"
    }
   ],
   "source": [
    "df = DF_DATA.describe()\n",
    "df"
   ]
  },
  {
   "cell_type": "code",
   "execution_count": 13,
   "metadata": {},
   "outputs": [],
   "source": [
    "value_vars = list(df.columns)\n",
    "id_vars = set(DF_DATA.columns) - set(df.columns)\n",
    "id_vars = list(id_vars)"
   ]
  },
  {
   "cell_type": "code",
   "execution_count": null,
   "metadata": {},
   "outputs": [],
   "source": []
  },
  {
   "cell_type": "code",
   "execution_count": 14,
   "metadata": {
    "slideshow": {
     "slide_type": "subslide"
    }
   },
   "outputs": [],
   "source": [
    "melted_data = DF_DATA.melt(id_vars=id_vars,\n",
    "                     value_vars=value_vars,\n",
    "                     value_name='PRR',\n",
    "                     var_name='Nó sensor'\n",
    "                    )"
   ]
  },
  {
   "cell_type": "code",
   "execution_count": 15,
   "metadata": {
    "slideshow": {
     "slide_type": "subslide"
    }
   },
   "outputs": [
    {
     "data": {
      "text/html": [
       "<div>\n",
       "<style scoped>\n",
       "    .dataframe tbody tr th:only-of-type {\n",
       "        vertical-align: middle;\n",
       "    }\n",
       "\n",
       "    .dataframe tbody tr th {\n",
       "        vertical-align: top;\n",
       "    }\n",
       "\n",
       "    .dataframe thead th {\n",
       "        text-align: right;\n",
       "    }\n",
       "</style>\n",
       "<table border=\"1\" class=\"dataframe\">\n",
       "  <thead>\n",
       "    <tr style=\"text-align: right;\">\n",
       "      <th></th>\n",
       "      <th>Modelo de colisão</th>\n",
       "      <th>Simulation</th>\n",
       "      <th>Taxa de dados</th>\n",
       "      <th>Nó sensor</th>\n",
       "      <th>PRR</th>\n",
       "    </tr>\n",
       "  </thead>\n",
       "  <tbody>\n",
       "    <tr>\n",
       "      <th>56</th>\n",
       "      <td>sem colisão</td>\n",
       "      <td>CLBinomial</td>\n",
       "      <td>baixa</td>\n",
       "      <td>D-Punho</td>\n",
       "      <td>99.833</td>\n",
       "    </tr>\n",
       "    <tr>\n",
       "      <th>116</th>\n",
       "      <td>sem colisão</td>\n",
       "      <td>CLBinomial</td>\n",
       "      <td>baixa</td>\n",
       "      <td>D-Tornozelo</td>\n",
       "      <td>97.887</td>\n",
       "    </tr>\n",
       "    <tr>\n",
       "      <th>148</th>\n",
       "      <td>sem colisão</td>\n",
       "      <td>CLBinomial</td>\n",
       "      <td>média</td>\n",
       "      <td>Peito</td>\n",
       "      <td>97.022</td>\n",
       "    </tr>\n",
       "    <tr>\n",
       "      <th>90</th>\n",
       "      <td>sem colisão</td>\n",
       "      <td>PA</td>\n",
       "      <td>alta</td>\n",
       "      <td>D-Tornozelo</td>\n",
       "      <td>84.736</td>\n",
       "    </tr>\n",
       "    <tr>\n",
       "      <th>105</th>\n",
       "      <td>com colisão</td>\n",
       "      <td>CL2</td>\n",
       "      <td>baixa</td>\n",
       "      <td>D-Tornozelo</td>\n",
       "      <td>96.218</td>\n",
       "    </tr>\n",
       "  </tbody>\n",
       "</table>\n",
       "</div>"
      ],
      "text/plain": [
       "    Modelo de colisão  Simulation Taxa de dados    Nó sensor     PRR\n",
       "56        sem colisão  CLBinomial         baixa      D-Punho  99.833\n",
       "116       sem colisão  CLBinomial         baixa  D-Tornozelo  97.887\n",
       "148       sem colisão  CLBinomial         média        Peito  97.022\n",
       "90        sem colisão          PA          alta  D-Tornozelo  84.736\n",
       "105       com colisão         CL2         baixa  D-Tornozelo  96.218"
      ]
     },
     "execution_count": 15,
     "metadata": {},
     "output_type": "execute_result"
    }
   ],
   "source": [
    "melted_data.sample(5)"
   ]
  },
  {
   "cell_type": "markdown",
   "metadata": {
    "slideshow": {
     "slide_type": "slide"
    }
   },
   "source": [
    "## Visualization\n",
    "\n",
    "Relação de confiabilidade dos dados da simulação (--all) \n",
    "\n",
    "Visualização dos gráficos em coluna dupla\n",
    "\n",
    "Título dos gráficos (Modelo de Colisão = 0)\n"
   ]
  },
  {
   "cell_type": "code",
   "execution_count": 16,
   "metadata": {
    "slideshow": {
     "slide_type": "skip"
    }
   },
   "outputs": [],
   "source": [
    "# save images at ..\n",
    "imageFolder = 'images'\n",
    "isSaveImage = False\n",
    "\n",
    "def save_image(img,file_name,file_ext='.png'):\n",
    "    \n",
    "    if not isSaveImage:\n",
    "        return\n",
    "    \n",
    "    if not file_name.endswith(file_ext):\n",
    "        file_name += file_ext\n",
    "    \n",
    "    output_file = os.path.join(imageFolder,file_name)\n",
    "    \n",
    "    if type(img) == sns.axisgrid.FacetGrid :\n",
    "        img.savefig(output_file)\n",
    "        \n",
    "    elif type(img) == matplotlib.axes._subplots.Subplot:\n",
    "        img.get_figure().savefig(output_file)"
   ]
  },
  {
   "cell_type": "code",
   "execution_count": 17,
   "metadata": {
    "slideshow": {
     "slide_type": "subslide"
    }
   },
   "outputs": [],
   "source": [
    "def barplot(dfdata, collisionModel=None):\n",
    "    \n",
    "    image_file_name = 'PRR'\n",
    "    \n",
    "    if collisionModel :\n",
    "        dfdata = dfdata[dfdata['Collision model'] == collisionModel]\n",
    "        image_file_name += ('_' + str(collisionModel))\n",
    "        \n",
    "    # método do seaborn - categorical plot\n",
    "    g = sns.catplot(data=dfdata,\n",
    "                    x='Nó sensor',\n",
    "                    y='PRR',\n",
    "                    hue='Simulation',\n",
    "                    hue_order=[\"CL\",\"PA\",\"PB\"],\n",
    "                    col='Collision model',\n",
    "                    kind='bar',\n",
    "                    height=5,\n",
    "                    aspect=2,\n",
    "                    sharey=False,\n",
    "                    legend_out=True,\n",
    "                    ci=None\n",
    "                   )\n",
    "    # g.set_titles(col_template='{col_var} : {col_name}') \n",
    "    # help(g.set_titles) # para obter mais ajuda\n",
    "    g.set_titles(col_template='{col_var} {col_name}')\n",
    "\n",
    "    # Define o intervalo do eixo x\n",
    "    g.set(ylim=(40,105))\n",
    "    \n",
    "    save_image(g,image_file_name)\n",
    "    \n",
    "    return g"
   ]
  },
  {
   "cell_type": "code",
   "execution_count": 18,
   "metadata": {},
   "outputs": [],
   "source": [
    "def boxplot(dfdata,collisionModel):\n",
    "        \n",
    "    if collisionModel :\n",
    "        dfdata = dfdata[dfdata['Collision model'] == collisionModel]\n",
    "    else :\n",
    "        return\n",
    "    \n",
    "    image_file_name = 'boxplot_PRR_' + str(collisionModel)\n",
    "    image_title = 'Collision model ' + collisionModel\n",
    "    \n",
    "    plt.figure(figsize=(10,7))\n",
    "    \n",
    "    ax = sns.boxplot(data=dfdata,\n",
    "                     x='Nodes',\n",
    "                     y='PRR',\n",
    "                     hue='Simulation',\n",
    "                     hue_order=[\"CL\",\"PA\",\"PB\"],\n",
    "                    )\n",
    "    \n",
    "    ax.set_title(image_title)\n",
    "    \n",
    "    save_image(ax, image_file_name)\n",
    "    \n",
    "    return ax"
   ]
  },
  {
   "cell_type": "code",
   "execution_count": 19,
   "metadata": {},
   "outputs": [
    {
     "data": {
      "text/html": [
       "<div>\n",
       "<style scoped>\n",
       "    .dataframe tbody tr th:only-of-type {\n",
       "        vertical-align: middle;\n",
       "    }\n",
       "\n",
       "    .dataframe tbody tr th {\n",
       "        vertical-align: top;\n",
       "    }\n",
       "\n",
       "    .dataframe thead th {\n",
       "        text-align: right;\n",
       "    }\n",
       "</style>\n",
       "<table border=\"1\" class=\"dataframe\">\n",
       "  <thead>\n",
       "    <tr style=\"text-align: right;\">\n",
       "      <th></th>\n",
       "      <th>Modelo de colisão</th>\n",
       "      <th>Simulation</th>\n",
       "      <th>Taxa de dados</th>\n",
       "      <th>Nó sensor</th>\n",
       "      <th>PRR</th>\n",
       "    </tr>\n",
       "  </thead>\n",
       "  <tbody>\n",
       "    <tr>\n",
       "      <th>131</th>\n",
       "      <td>com colisão</td>\n",
       "      <td>PB</td>\n",
       "      <td>média</td>\n",
       "      <td>Peito</td>\n",
       "      <td>73.735</td>\n",
       "    </tr>\n",
       "  </tbody>\n",
       "</table>\n",
       "</div>"
      ],
      "text/plain": [
       "    Modelo de colisão Simulation Taxa de dados Nó sensor     PRR\n",
       "131       com colisão         PB         média     Peito  73.735"
      ]
     },
     "execution_count": 19,
     "metadata": {},
     "output_type": "execute_result"
    }
   ],
   "source": [
    "melted_data.sample()"
   ]
  },
  {
   "cell_type": "code",
   "execution_count": 20,
   "metadata": {},
   "outputs": [
    {
     "data": {
      "text/plain": [
       "<seaborn.axisgrid.FacetGrid at 0x7ffb69e14cc0>"
      ]
     },
     "execution_count": 20,
     "metadata": {},
     "output_type": "execute_result"
    },
    {
     "data": {
      "image/png": "[encoded data removed]",
      "text/plain": [
       "<Figure size 956x1080 with 10 Axes>"
      ]
     },
     "metadata": {
      "needs_background": "light"
     },
     "output_type": "display_data"
    }
   ],
   "source": [
    "ax = sns.catplot(data=melted_data,\n",
    "                x='Taxa de dados',\n",
    "                y='PRR',\n",
    "                hue='Simulation',\n",
    "                hue_order=['PB', 'CL2', 'CL4','CLBinomial', 'PA'],\n",
    "                order=['baixa', 'média', 'alta'],\n",
    "                col='Modelo de colisão',\n",
    "                row='Nó sensor',\n",
    "                kind='bar',\n",
    "                height=3,\n",
    "                aspect=2,\n",
    "#                 ci=None,\n",
    "                sharex=False,\n",
    "               )\n",
    "\n",
    "ax.set(ylim=(50,100))"
   ]
  },
  {
   "cell_type": "code",
   "execution_count": 21,
   "metadata": {},
   "outputs": [
    {
     "data": {
      "text/html": [
       "<div>\n",
       "<style scoped>\n",
       "    .dataframe tbody tr th:only-of-type {\n",
       "        vertical-align: middle;\n",
       "    }\n",
       "\n",
       "    .dataframe tbody tr th {\n",
       "        vertical-align: top;\n",
       "    }\n",
       "\n",
       "    .dataframe thead th {\n",
       "        text-align: right;\n",
       "    }\n",
       "</style>\n",
       "<table border=\"1\" class=\"dataframe\">\n",
       "  <thead>\n",
       "    <tr style=\"text-align: right;\">\n",
       "      <th></th>\n",
       "      <th>Modelo de colisão</th>\n",
       "      <th>Simulation</th>\n",
       "      <th>Taxa de dados</th>\n",
       "      <th>Nó sensor</th>\n",
       "      <th>PRR</th>\n",
       "    </tr>\n",
       "  </thead>\n",
       "  <tbody>\n",
       "    <tr>\n",
       "      <th>133</th>\n",
       "      <td>com colisão</td>\n",
       "      <td>CL2</td>\n",
       "      <td>alta</td>\n",
       "      <td>Peito</td>\n",
       "      <td>72.518</td>\n",
       "    </tr>\n",
       "  </tbody>\n",
       "</table>\n",
       "</div>"
      ],
      "text/plain": [
       "    Modelo de colisão Simulation Taxa de dados Nó sensor     PRR\n",
       "133       com colisão        CL2          alta     Peito  72.518"
      ]
     },
     "execution_count": 21,
     "metadata": {},
     "output_type": "execute_result"
    }
   ],
   "source": [
    "melted_data.sample()"
   ]
  },
  {
   "cell_type": "code",
   "execution_count": 22,
   "metadata": {},
   "outputs": [],
   "source": [
    "df_baixa = melted_data[melted_data['Taxa de dados'] == 'baixa']"
   ]
  },
  {
   "cell_type": "code",
   "execution_count": 23,
   "metadata": {},
   "outputs": [
    {
     "data": {
      "text/plain": [
       "<seaborn.axisgrid.FacetGrid at 0x7ffb698ad588>"
      ]
     },
     "execution_count": 23,
     "metadata": {},
     "output_type": "execute_result"
    },
    {
     "data": {
      "image/png": "[encoded data removed]",
      "text/plain": [
       "<Figure size 956x216 with 2 Axes>"
      ]
     },
     "metadata": {
      "needs_background": "light"
     },
     "output_type": "display_data"
    }
   ],
   "source": [
    "ax = sns.catplot(data=df_baixa,\n",
    "                 x='Nó sensor',\n",
    "                 y='PRR',\n",
    "                 hue='Simulation',\n",
    "                 hue_order=['PB', 'CL2', 'CL4','CLBinomial', 'PA'],\n",
    "                 col='Modelo de colisão',\n",
    "                 kind='bar',\n",
    "                 height=3,\n",
    "                 aspect=2,\n",
    "                )\n",
    "\n",
    "ax.set(ylim=(50,100))"
   ]
  },
  {
   "cell_type": "code",
   "execution_count": null,
   "metadata": {},
   "outputs": [],
   "source": []
  },
  {
   "cell_type": "code",
   "execution_count": 24,
   "metadata": {},
   "outputs": [
    {
     "data": {
      "text/plain": [
       "<seaborn.axisgrid.FacetGrid at 0x7ffb690b5588>"
      ]
     },
     "execution_count": 24,
     "metadata": {},
     "output_type": "execute_result"
    },
    {
     "data": {
      "image/png": "[encoded data removed]",
      "text/plain": [
       "<Figure size 956x216 with 2 Axes>"
      ]
     },
     "metadata": {
      "needs_background": "light"
     },
     "output_type": "display_data"
    }
   ],
   "source": [
    "ax = sns.catplot(data=df_baixa,\n",
    "                 x='Nó sensor',\n",
    "                 y='PRR',\n",
    "                 hue='Simulation',\n",
    "                 hue_order=['PB', 'CL2', 'CL4','CLBinomial', 'PA'],\n",
    "                 col='Modelo de colisão',\n",
    "                 kind='bar',\n",
    "                 height=3,\n",
    "                 aspect=2,\n",
    "                )\n",
    "\n",
    "ax.set(ylim=(70,100))"
   ]
  },
  {
   "cell_type": "code",
   "execution_count": null,
   "metadata": {},
   "outputs": [],
   "source": []
  }
 ],
 "metadata": {
  "celltoolbar": "Raw Cell Format",
  "kernelspec": {
   "display_name": "Python 3",
   "language": "python",
   "name": "python3"
  },
  "language_info": {
   "codemirror_mode": {
    "name": "ipython",
    "version": 3
   },
   "file_extension": ".py",
   "mimetype": "text/x-python",
   "name": "python",
   "nbconvert_exporter": "python",
   "pygments_lexer": "ipython3",
   "version": "3.6.8"
  },
  "widgets": {
   "application/vnd.jupyter.widget-state+json": {
    "state": {},
    "version_major": 2,
    "version_minor": 0
   }
  }
 },
 "nbformat": 4,
 "nbformat_minor": 2
}
